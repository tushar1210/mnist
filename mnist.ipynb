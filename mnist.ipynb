{
 "cells": [
  {
   "cell_type": "code",
   "execution_count": 68,
   "metadata": {},
   "outputs": [],
   "source": [
    "import tensorflow as tf\n",
    "import numpy as np\n",
    "import matplotlib.pyplot as plt"
   ]
  },
  {
   "cell_type": "code",
   "execution_count": 41,
   "metadata": {},
   "outputs": [],
   "source": [
    "mnist = tf.keras.datasets.mnist"
   ]
  },
  {
   "cell_type": "code",
   "execution_count": 61,
   "metadata": {},
   "outputs": [
    {
     "name": "stdout",
     "output_type": "stream",
     "text": [
      "Epoch 1/3\n",
      "60000/60000 [==============================] - 4s 69us/sample - loss: 0.2502 - acc: 0.9267\n",
      "Epoch 2/3\n",
      "60000/60000 [==============================] - 5s 76us/sample - loss: 0.1011 - acc: 0.9685\n",
      "Epoch 3/3\n",
      "60000/60000 [==============================] - 4s 71us/sample - loss: 0.0697 - acc: 0.9777\n"
     ]
    },
    {
     "data": {
      "text/plain": [
       "<tensorflow.python.keras.callbacks.History at 0x13118d438>"
      ]
     },
     "execution_count": 61,
     "metadata": {},
     "output_type": "execute_result"
    }
   ],
   "source": [
    "(x_train,y_train),(x_test,y_test) = mnist.load_data()\n",
    "\n",
    "#normalise data from (0-255)\n",
    "x_train = tf.keras.utils.normalize(x_train,axis=1)  \n",
    "x_test = tf.keras.utils.normalize(x_test,axis=1)\n",
    "# defining model\n",
    "model = tf.keras.models.Sequential()\n",
    "model.add(tf.keras.layers.Flatten()) # input layer\n",
    "model.add(tf.keras.layers.Dense(128,activation=tf.nn.relu)) # 1st hidden layer\n",
    "model.add(tf.keras.layers.Dense(128,activation=tf.nn.tanh)) # 2nd hidden layer\n",
    "model.add(tf.keras.layers.Dense(10,activation=tf.nn.softmax)) # output layer\n",
    "model.compile(optimizer='adam',\n",
    "             loss ='sparse_categorical_crossentropy',metrics=['accuracy'] )\n",
    "\n",
    "model.fit(x_train,y_train,epochs=3)"
   ]
  },
  {
   "cell_type": "code",
   "execution_count": 62,
   "metadata": {},
   "outputs": [
    {
     "name": "stdout",
     "output_type": "stream",
     "text": [
      "10000/10000 [==============================] - 0s 46us/sample - loss: 0.1032 - acc: 0.9702\n"
     ]
    }
   ],
   "source": [
    "val_loss,val_acc = model.evaluate(x_test,y_test)"
   ]
  },
  {
   "cell_type": "code",
   "execution_count": 63,
   "metadata": {},
   "outputs": [],
   "source": [
    "model.save('mnist.model') # save model"
   ]
  },
  {
   "cell_type": "code",
   "execution_count": 65,
   "metadata": {},
   "outputs": [],
   "source": [
    "predictions = model.predict([x_test])"
   ]
  },
  {
   "cell_type": "code",
   "execution_count": 66,
   "metadata": {},
   "outputs": [
    {
     "name": "stdout",
     "output_type": "stream",
     "text": [
      "[[6.32996162e-08 9.98566350e-08 1.62334381e-05 ... 9.99980330e-01\n",
      "  3.54906831e-07 1.01844975e-07]\n",
      " [4.15517643e-05 1.48508989e-04 9.99762595e-01 ... 4.29774758e-07\n",
      "  2.07430276e-07 1.08474907e-09]\n",
      " [3.52670412e-07 9.99532700e-01 3.62156934e-05 ... 3.39430495e-04\n",
      "  3.27997841e-05 2.20581546e-06]\n",
      " ...\n",
      " [3.45693998e-08 3.75201978e-07 1.34703527e-07 ... 3.29169525e-05\n",
      "  1.55404382e-06 4.40846452e-05]\n",
      " [5.20121102e-06 8.43704256e-05 1.39029116e-05 ... 6.83498854e-07\n",
      "  3.44702117e-02 1.24272335e-08]\n",
      " [8.40122902e-06 1.99231295e-07 2.31999438e-05 ... 1.03023412e-08\n",
      "  2.91946321e-06 3.56452205e-07]]\n"
     ]
    }
   ],
   "source": [
    "print(predictions)"
   ]
  },
  {
   "cell_type": "code",
   "execution_count": 71,
   "metadata": {},
   "outputs": [
    {
     "data": {
      "text/plain": [
       "1"
      ]
     },
     "execution_count": 71,
     "metadata": {},
     "output_type": "execute_result"
    }
   ],
   "source": [
    "np.argmax(predictions[2])"
   ]
  },
  {
   "cell_type": "code",
   "execution_count": 73,
   "metadata": {},
   "outputs": [
    {
     "data": {
      "text/plain": [
       "<matplotlib.image.AxesImage at 0x12fb73438>"
      ]
     },
     "execution_count": 73,
     "metadata": {},
     "output_type": "execute_result"
    },
    {
     "data": {
      "image/png": "[encoded data removed]",
      "text/plain": [
       "<Figure size 432x288 with 1 Axes>"
      ]
     },
     "metadata": {
      "needs_background": "light"
     },
     "output_type": "display_data"
    }
   ],
   "source": [
    "plt.imshow(x_test[2])"
   ]
  },
  {
   "cell_type": "code",
   "execution_count": null,
   "metadata": {},
   "outputs": [],
   "source": []
  }
 ],
 "metadata": {
  "kernelspec": {
   "display_name": "Python 3",
   "language": "python",
   "name": "python3"
  },
  "language_info": {
   "codemirror_mode": {
    "name": "ipython",
    "version": 3
   },
   "file_extension": ".py",
   "mimetype": "text/x-python",
   "name": "python",
   "nbconvert_exporter": "python",
   "pygments_lexer": "ipython3",
   "version": "3.7.1"
  }
 },
 "nbformat": 4,
 "nbformat_minor": 2
}
